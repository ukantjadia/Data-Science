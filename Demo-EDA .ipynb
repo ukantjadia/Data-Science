{
 "cells": [
  {
   "attachments": {},
   "cell_type": "markdown",
   "metadata": {},
   "source": [
    "# The Demo file contains the steps to perform the every Exploratory Analysis.\n",
    " This will contain the template for every EDA project."
   ]
  },
  {
   "attachments": {},
   "cell_type": "markdown",
   "metadata": {},
   "source": [
    "## Walkthrough \n",
    "1. First you need to have all command libraries for exploration and visualization.\n",
    "2. Second step is cruicial because it helps to define hypothesis(if not given) and the combination from where you can have the information. \n",
    "3. Now Collect the data and store in a pandas dataframe for easy to access.\n",
    "4. Do the following mentioned analysis and form the replationsihp between various data features.\n",
    "5. Test your hypothesis from the analysis and visualization."
   ]
  },
  {
   "attachments": {},
   "cell_type": "markdown",
   "metadata": {},
   "source": [
    "# Contents\n",
    "- Problem Definition/ Introduction\n",
    "- Hypothesis Generation\n",
    "- Data Extraction/ Data Collection\n",
    "- Data Exploration and Transformation\n",
    "- Hypothesis Testing"
   ]
  },
  {
   "attachments": {},
   "cell_type": "markdown",
   "metadata": {},
   "source": [
    "## Problem Defination/Introduction\n",
    "\n"
   ]
  },
  {
   "attachments": {},
   "cell_type": "markdown",
   "metadata": {},
   "source": [
    "Read the given data/information twice and try to understand it practically and theoritically relate it with real life.\n",
    "<br> Try to get what you can do with this data/information.\n",
    "<br> Form some basic question and hypothesis to work on and can be achive with the availabe data/information."
   ]
  },
  {
   "attachments": {},
   "cell_type": "markdown",
   "metadata": {},
   "source": [
    "## Hypothesis Generation"
   ]
  },
  {
   "attachments": {},
   "cell_type": "markdown",
   "metadata": {},
   "source": [
    "The hypothesis part should be done before any operation on the data.<br>\n",
    "We can have both positive and negative hypothesis as well.\n",
    "After deciding the hypothesis, Start performing the operation and try to achive hypothesis results, If you hyposthesis is correct or incorrect mention it with reason in conclusion ."
   ]
  },
  {
   "attachments": {},
   "cell_type": "markdown",
   "metadata": {},
   "source": [
    "## Data Extraction/ Data Collection "
   ]
  },
  {
   "attachments": {},
   "cell_type": "markdown",
   "metadata": {},
   "source": [
    "Collect the data from various source and make it easy to handle or oprate\n",
    "\n",
    "Use the python libraries for data handling `pandas`, `numpy`, "
   ]
  },
  {
   "attachments": {},
   "cell_type": "markdown",
   "metadata": {},
   "source": [
    "## Data exploration and Transformation "
   ]
  },
  {
   "attachments": {},
   "cell_type": "markdown",
   "metadata": {},
   "source": [
    "This step contains the following actions \n",
    "- Data Exploration\n",
    "    - Check for data shape.\n",
    "    - Check information(.info()) for checking the available the data types.\n",
    "        - Three types:\n",
    "            - Numerical - Age, Contact Number (complete digit value)\n",
    "            - Categorical - Class A, Class B, yes, no (multiple entries labled with same name)\n",
    "            - Mixed - password, id (alpha-numeric values)\n",
    "    - Check missing values or any other abnormal form of entries in dataset.\n",
    "    - Handle the missing and null entries.\n",
    "- Univariate Analysis\n",
    "    - It only focuses on analyzing each attribute independently(seprately).\n",
    "        - Perform Descriptive Analysis, various statistical techniques including central tendency,frequency distribution,  dispersion, skewness and outliers also range, variance, standard deviation, interquartile range(IQR). can be done with visualization.\n",
    "    - In Univariate Analysis mainly focuses on mean, median, mode, range, IQR, skewness and outliers.\n",
    "    - For visualization plots like bar plot, density plot, hist plot, kde/hist plot.\n",
    "- Bivariate Analysis<br>\n",
    "    In bivariate analysis analyze two features together.\n",
    "    - Try to understand the relationship between two variable.\n",
    "    - Bivariate Analysis can be done in 3 type on the basis of dataset(numerical,categoricall)\n",
    "        - Numerical - Numerical\n",
    "            - Find correlation cofficent between them \n",
    "            - For visulization plots like scatterplot(regression plot),2D histplot, 2D KDEplot \n",
    "        - Numerical - Categorical \n",
    "            - Compare the distribution of categorical data corrosponding to different categorical data.\n",
    "            - Visualiza it using barplot, boxplot, violinplot,lmplot.\n",
    "        - Categorical - Categorical\n",
    "            - Form the cross-tabulation or contingency tables to show the distribution of category values over other category values.\n",
    "            - In other words - You can create cross-tabulations or contingency tables that show the distribution of values in one categorical column, grouped by the values in the other categorical column.\n",
    "            - For visualization plots like. heatmap, stacked barplots, treemaps."
   ]
  },
  {
   "cell_type": "markdown",
   "metadata": {},
   "source": [
    "## Hypothesis Testing"
   ]
  },
  {
   "attachments": {},
   "cell_type": "markdown",
   "metadata": {},
   "source": [
    "From the above analysis and grpahs test your hypothesis you have made in Second Step. \n",
    "Perform the hypothesis which is generated in Second Step, then go through the data exploration/visualization and verify the hypothesis.\n",
    "Mention the results which are obtained from entire testing process."
   ]
  }
 ],
 "metadata": {
  "kernelspec": {
   "display_name": "idp",
   "language": "python",
   "name": "python3"
  },
  "language_info": {
   "codemirror_mode": {
    "name": "ipython",
    "version": 3
   },
   "file_extension": ".py",
   "mimetype": "text/x-python",
   "name": "python",
   "nbconvert_exporter": "python",
   "pygments_lexer": "ipython3",
   "version": "3.7.12"
  },
  "orig_nbformat": 4
 },
 "nbformat": 4,
 "nbformat_minor": 2
}
