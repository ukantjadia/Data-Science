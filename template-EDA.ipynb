{
 "cells": [
  {
   "attachments": {},
   "cell_type": "markdown",
   "metadata": {},
   "source": [
    "# This will contain the template for every eda project."
   ]
  },
  {
   "attachments": {},
   "cell_type": "markdown",
   "metadata": {},
   "source": [
    "# Contents\n",
    "- Problem Definition/ Introduction\n",
    "- Hypothesis Generation\n",
    "- Data Extraction/ Data Collection\n",
    "- Data Exploration and Transformation\n",
    "- Predictive Modeling\n",
    "- Model Deployment/ Implementation"
   ]
  },
  {
   "attachments": {},
   "cell_type": "markdown",
   "metadata": {},
   "source": [
    "## Problem Defination/Introduction\n",
    "\n"
   ]
  },
  {
   "cell_type": "code",
   "execution_count": null,
   "metadata": {},
   "outputs": [],
   "source": [
    "# Import Key Packages\n",
    "# For Data Handling\n",
    "import pandas as pd\n",
    "import numpy as np\n",
    "\n",
    "# For Data Preprocessing\n",
    "from sklearn import preprocessing\n",
    "from sklearn.model_selection import train_test_split,GridSearchCV,RandomizedSearchCV\n",
    "\n",
    "# For VIsualization\n",
    "import matplotlib.pyplot as plt\n",
    "import seaborn as sns\n",
    "%matplotlib inline\n",
    "\n",
    "# For Predictive(regressor) Model\n",
    "from sklearn.linear_model import LinearRegression, LogisticRegression\n",
    "from sklearn.ensemble import RandomForestRegressor, GradientBoostingRegressor\n",
    "\n",
    "# For regression model evaluation\n",
    "from sklearn.metrics import r2_score, mean_squared_error\n",
    "\n"
   ]
  },
  {
   "attachments": {},
   "cell_type": "markdown",
   "metadata": {},
   "source": [
    "## Hypothesis Generation"
   ]
  },
  {
   "attachments": {},
   "cell_type": "markdown",
   "metadata": {},
   "source": [
    "## Data Extraction/ Data Collection "
   ]
  },
  {
   "attachments": {},
   "cell_type": "markdown",
   "metadata": {},
   "source": [
    "## Data exploration and Trandformation "
   ]
  },
  {
   "cell_type": "code",
   "execution_count": null,
   "metadata": {},
   "outputs": [],
   "source": [
    "plt.figure(figsize=(10,6)) # figsize=(x,y)\n",
    "\n",
    "### For Find the Distribution of data\n",
    "sns.kdeplot(data=data[None],shade=True)\n",
    "sns.histplot(data=data[None])\n",
    "sns.jointplot(x=data[None],y=data[None],kind='kde') # 2D kde plot \n",
    "\n",
    "### For Finding Trend in Dataset\n",
    "sns.lineplot(data)\n",
    "\n",
    "### For Finding Relationship between two or more features\n",
    "sns.barplot(x=None,y=None)\n",
    "sns.heatmap(data,annot=True)\n",
    "sns.scatterplot(x=data[None],y=data[None])\n",
    "sns.scatterplot(x=data[None],y=data[None],hue=data[None])\n",
    "sns.regplot(x=data[None],y=data[None])\n",
    "sns.lmplot(x=data[None],y=data[None],hue=data[None]) # gives two regression lines\n",
    "sns.swarmplot(x=data[None],y=data[None])\n"
   ]
  },
  {
   "attachments": {},
   "cell_type": "markdown",
   "metadata": {},
   "source": [
    "## Predictive Modeling"
   ]
  },
  {
   "attachments": {},
   "cell_type": "markdown",
   "metadata": {},
   "source": [
    "## Model Deployment/ Implementation"
   ]
  },
  {
   "cell_type": "code",
   "execution_count": null,
   "metadata": {},
   "outputs": [],
   "source": [
    "mm"
   ]
  }
 ],
 "metadata": {
  "kernelspec": {
   "display_name": "idp",
   "language": "python",
   "name": "python3"
  },
  "language_info": {
   "name": "python",
   "version": "3.7.12"
  },
  "orig_nbformat": 4
 },
 "nbformat": 4,
 "nbformat_minor": 2
}
