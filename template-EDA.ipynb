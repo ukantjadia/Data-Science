{
 "cells": [
  {
   "attachments": {},
   "cell_type": "markdown",
   "id": "bd11e272",
   "metadata": {},
   "source": [
    "# The Demo file contains the steps to perform every Exploratory Analysis\n",
    "\n",
    "This will contain the template for every EDA project."
   ]
  },
  {
   "attachments": {},
   "cell_type": "markdown",
   "id": "8f5ac7b4",
   "metadata": {},
   "source": [
    "**Walkthrough**"
   ]
  },
  {
   "attachments": {},
   "cell_type": "markdown",
   "id": "d979ad16",
   "metadata": {},
   "source": [
    "\n",
    "1.  First, you need to have all command libraries for exploration and\n",
    "    visualization.\n",
    "2.  Second step is crucial, because it helps to define the hypothesis(if\n",
    "    not given) and the combination from where you can have the\n",
    "    information.\n",
    "3.  Now Collect the data and store it in the panda’s data frame for easy\n",
    "    access.\n",
    "4.  Do the following mentioned analysis and form the relationship\n",
    "    between various data features.\n",
    "5.  Test your hypothesis from the analysis and visualization.\n"
   ]
  },
  {
   "attachments": {},
   "cell_type": "markdown",
   "id": "406030b1",
   "metadata": {},
   "source": [
    "# Contents\n",
    "\n",
    "-   Problem Definition/ Introduction\n",
    "-   Hypothesis Generation\n",
    "-   Data Extraction/ Data Collection\n",
    "-   Data Exploration and Transformation\n",
    "-   Hypothesis Testing\n",
    "\n"
   ]
  },
  {
   "cell_type": "markdown",
   "id": "112bad19",
   "metadata": {},
   "source": [
    "## Problem Definition/Introduction\n"
   ]
  },
  {
   "attachments": {},
   "cell_type": "markdown",
   "id": "88a4a078",
   "metadata": {},
   "source": [
    "Read the given data/information twice and try to understand it\n",
    "practically and theoretically and relate it to real life.\n",
    " <br> Try to\n",
    "get what you can do with this data/information. \n",
    "<br> Form some basic\n",
    "questions and hypotheses to work on that can be achieved with the\n",
    "available data/information.\n"
   ]
  },
  {
   "cell_type": "markdown",
   "id": "3d657803",
   "metadata": {},
   "source": [
    "## Hypothesis Generation\n",
    "\n"
   ]
  },
  {
   "attachments": {},
   "cell_type": "markdown",
   "id": "42885031",
   "metadata": {},
   "source": [
    "The hypothesis part should be done before any operation on the data.\n",
    "<br>\n",
    "We can have both positive and negative hypotheses as well. After\n",
    "deciding the hypothesis, Start operating and try to achieve hypothesis\n",
    "results, If your hypothesis is correct or incorrect mention it with\n",
    "reason in the conclusion."
   ]
  },
  {
   "attachments": {},
   "cell_type": "markdown",
   "id": "fa09976a",
   "metadata": {},
   "source": [
    "## Data Extraction/ Data Collection"
   ]
  },
  {
   "attachments": {},
   "cell_type": "markdown",
   "id": "c5054a1c",
   "metadata": {},
   "source": [
    "\n",
    "Collect the data from various sources and make it easy to handle or\n",
    "operate\n",
    "\n",
    "Use the python libraries for data handling `pandas`, `numpy`,\n"
   ]
  },
  {
   "attachments": {},
   "cell_type": "markdown",
   "id": "b573a88a",
   "metadata": {},
   "source": [
    "## Data exploration and Transformation"
   ]
  },
  {
   "attachments": {},
   "cell_type": "markdown",
   "id": "f8cffbe5-ca90-4971-9d0e-c0f5370ed4fb",
   "metadata": {},
   "source": [
    "\n",
    "This step contains the following actions\n",
    "\n",
    "-   Data Exploration\n",
    "    -   Check for data shape.\n",
    "    -   Check information(.info()) for checking the available data\n",
    "        types.\n",
    "        -   Three types:\n",
    "            -   Numerical - Age, Contact Number (complete digit value)\n",
    "            -   Categorical - Class A, Class B, yes, no (multiple\n",
    "                entries labeled with the same name)\n",
    "            -   Mixed - password, id (alpha-numeric values)\n",
    "    -   Check missing values or any other abnormal form of entries in\n",
    "        the dataset.\n",
    "    -   Handle the missing and null entries.\n",
    "-   Univariate Analysis\n",
    "    -   It only focuses on analyzing each attribute\n",
    "        independently(separately).\n",
    "        -   Perform Descriptive Analysis, and various statistical\n",
    "            techniques including central tendency, frequency\n",
    "            distribution, dispersion, skewness and outliers also range,\n",
    "            variance, standard deviation, and interquartile range(IQR)\n",
    "            can be done with visualization.\n",
    "-   Univariate Analysis mainly focuses on mean, median, mode, range,\n",
    "    IQR, skewness, and outliers.\n",
    "    -   For visualization plots like bar plot, density plot, hist plot,\n",
    "        and KDE/hist plot.\n",
    "-   Bivariate Analysis<br> In bivariate analysis, analyze two features\n",
    "    together.\n",
    "    -   Try to understand the relationship between two variables.\n",
    "    -   Bivariate Analysis can be done in 3 types based on the\n",
    "        dataset(numerical, categorical)\n",
    "        -   Numerical - Numerical\n",
    "            -   Find a correlation coefficient between them\n",
    "            -   For visualization plots like scatterplot(regression\n",
    "                plot),2D histplot, 2D KDEplot\n",
    "        -   Numerical - Categorical\n",
    "            -   Compare the distribution of categorical data\n",
    "                corresponding to different categorical data.\n",
    "            -   Visualize it using barplot, boxplot, violin plot, and\n",
    "                lmplot.\n",
    "        -   Categorical - Categorical\n",
    "            -   Form the cross-tabulation or contingency tables to show\n",
    "                the distribution of category values over other category\n",
    "                values.\n",
    "            -   In other words - You can create cross-tabulations or\n",
    "                contingency tables that show the distribution of values\n",
    "                in one categorical column, grouped by the values in the\n",
    "                other categorical column.\n",
    "            -   For visualization plots like. heatmap, stacked bar\n",
    "                plots, treemaps."
   ]
  },
  {
   "attachments": {},
   "cell_type": "markdown",
   "id": "374d5cc0",
   "metadata": {},
   "source": [
    "## Hypothesis Testing"
   ]
  },
  {
   "attachments": {},
   "cell_type": "markdown",
   "id": "98415816",
   "metadata": {},
   "source": [
    "From the above analysis and graphs test the hypothesis you have made in\n",
    "the Second Step. \n",
    "\n",
    "Perform the hypothesis which is generated in Second Step, then go through the data exploration/visualization and verify the\n",
    "hypothesis.\n",
    "\n",
    " Mention the results which are obtained from the entire\n",
    "testing process.\n"
   ]
  }
 ],
 "metadata": {
  "language_info": {
   "name": "python"
  }
 },
 "nbformat": 4,
 "nbformat_minor": 5
}
